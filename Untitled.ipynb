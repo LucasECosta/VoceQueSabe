{
 "cells": [
  {
   "cell_type": "code",
   "execution_count": 15,
   "metadata": {},
   "outputs": [],
   "source": [
    "name_types =[line.rstrip('\\n').replace(\"_\",\" \").title() for line in open('valid_types.txt')]\n",
    "valid_types = [line.rstrip('\\n').replace(\"_\",\" \").title() for line in open('valid_types.txt')]\n"
   ]
  },
  {
   "cell_type": "code",
   "execution_count": 8,
   "metadata": {},
   "outputs": [],
   "source": [
    "i = 0\n",
    "for line in valid_types:\n",
    "    \n",
    "    valid_types[i] = line.capitalize()\n",
    "    i  +=1"
   ]
  },
  {
   "cell_type": "code",
   "execution_count": 16,
   "metadata": {},
   "outputs": [
    {
     "data": {
      "text/plain": [
       "['Accounting',\n",
       " 'Airport',\n",
       " 'Amusement Park',\n",
       " 'Aquarium',\n",
       " 'Art Gallery',\n",
       " 'Atm',\n",
       " 'Bakery',\n",
       " 'Bank',\n",
       " 'Bar',\n",
       " 'Beauty Salon',\n",
       " 'Bicycle Store',\n",
       " 'Book Store',\n",
       " 'Bowling Alley',\n",
       " 'Bus Station',\n",
       " 'Cafe',\n",
       " 'Campground',\n",
       " 'Car Dealer',\n",
       " 'Car Rental',\n",
       " 'Car Repair',\n",
       " 'Car Wash',\n",
       " 'Casino',\n",
       " 'Cemetery',\n",
       " 'Church',\n",
       " 'City Hall',\n",
       " 'Clothing Store',\n",
       " 'Convenience Store',\n",
       " 'Courthouse',\n",
       " 'Dentist',\n",
       " 'Department Store',\n",
       " 'Doctor',\n",
       " 'Electrician',\n",
       " 'Electronics Store',\n",
       " 'Embassy',\n",
       " 'Fire Station',\n",
       " 'Florist',\n",
       " 'Funeral Home',\n",
       " 'Furniture Store',\n",
       " 'Gas Station',\n",
       " 'Gym',\n",
       " 'Hair Care',\n",
       " 'Hardware Store',\n",
       " 'Hindu Temple',\n",
       " 'Home Goods Store',\n",
       " 'Hospital',\n",
       " 'Insurance Agency',\n",
       " 'Jewelry Store',\n",
       " 'Laundry',\n",
       " 'Lawyer',\n",
       " 'Library',\n",
       " 'Liquor Store',\n",
       " 'Local Government Office',\n",
       " 'Locksmith',\n",
       " 'Lodging',\n",
       " 'Meal Delivery',\n",
       " 'Meal Takeaway',\n",
       " 'Mosque',\n",
       " 'Movie Rental',\n",
       " 'Movie Theater',\n",
       " 'Moving Company',\n",
       " 'Museum',\n",
       " 'Night Club',\n",
       " 'Painter',\n",
       " 'Park',\n",
       " 'Parking',\n",
       " 'Pet Store',\n",
       " 'Pharmacy',\n",
       " 'Physiotherapist',\n",
       " 'Plumber',\n",
       " 'Police',\n",
       " 'Post Office',\n",
       " 'Real Estate Agency',\n",
       " 'Restaurant',\n",
       " 'Roofing Contractor',\n",
       " 'Rv Park',\n",
       " 'School',\n",
       " 'Shoe Store',\n",
       " 'Shopping Mall',\n",
       " 'Spa',\n",
       " 'Stadium',\n",
       " 'Storage',\n",
       " 'Store',\n",
       " 'Subway Station',\n",
       " 'Supermarket',\n",
       " 'Synagogue',\n",
       " 'Taxi Stand',\n",
       " 'Train Station',\n",
       " 'Transit Station',\n",
       " 'Travel Agency',\n",
       " 'Veterinary Care',\n",
       " 'Zoo']"
      ]
     },
     "execution_count": 16,
     "metadata": {},
     "output_type": "execute_result"
    }
   ],
   "source": [
    "valid_types"
   ]
  },
  {
   "cell_type": "code",
   "execution_count": null,
   "metadata": {},
   "outputs": [],
   "source": []
  }
 ],
 "metadata": {
  "kernelspec": {
   "display_name": "Python 3",
   "language": "python",
   "name": "python3"
  },
  "language_info": {
   "codemirror_mode": {
    "name": "ipython",
    "version": 3
   },
   "file_extension": ".py",
   "mimetype": "text/x-python",
   "name": "python",
   "nbconvert_exporter": "python",
   "pygments_lexer": "ipython3",
   "version": "3.7.4"
  }
 },
 "nbformat": 4,
 "nbformat_minor": 2
}
